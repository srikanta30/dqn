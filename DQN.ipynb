{
  "nbformat": 4,
  "nbformat_minor": 0,
  "metadata": {
    "colab": {
      "provenance": [],
      "toc_visible": true
    },
    "kernelspec": {
      "name": "python3",
      "display_name": "Python 3"
    },
    "language_info": {
      "name": "python"
    }
  },
  "cells": [
    {
      "cell_type": "markdown",
      "source": [
        "# 🧠 Deep Q-Learning using PyTorch on CartPole"
      ],
      "metadata": {
        "id": "SPKPBnBmgpiX"
      }
    },
    {
      "cell_type": "markdown",
      "source": [
        "Install compatible versions of gym and numpy"
      ],
      "metadata": {
        "id": "zFwKm8IgnfpA"
      }
    },
    {
      "cell_type": "code",
      "source": [
        "!pip install gym==0.26.2 numpy==1.23.5"
      ],
      "metadata": {
        "colab": {
          "base_uri": "https://localhost:8080/"
        },
        "id": "-PGfjDAindQK",
        "outputId": "fad78ef8-5400-448e-97ca-f91b8624207f"
      },
      "execution_count": null,
      "outputs": [
        {
          "output_type": "stream",
          "name": "stdout",
          "text": [
            "Requirement already satisfied: gym==0.26.2 in /usr/local/lib/python3.11/dist-packages (0.26.2)\n",
            "Requirement already satisfied: numpy==1.23.5 in /usr/local/lib/python3.11/dist-packages (1.23.5)\n",
            "Requirement already satisfied: cloudpickle>=1.2.0 in /usr/local/lib/python3.11/dist-packages (from gym==0.26.2) (3.1.1)\n",
            "Requirement already satisfied: gym_notices>=0.0.4 in /usr/local/lib/python3.11/dist-packages (from gym==0.26.2) (0.0.8)\n"
          ]
        }
      ]
    },
    {
      "cell_type": "markdown",
      "source": [
        "##🔹 Step 1: Import Required Libraries\n",
        "We begin by importing the essential libraries like numpy, pandas, PyTorch and more."
      ],
      "metadata": {
        "id": "ZrHozCqVghuq"
      }
    },
    {
      "cell_type": "code",
      "source": [
        "import gym\n",
        "import random\n",
        "import numpy as np\n",
        "from collections import deque\n",
        "import torch\n",
        "import torch.nn as nn\n",
        "import torch.optim as optim"
      ],
      "metadata": {
        "id": "OU2WDLsng0rv"
      },
      "execution_count": null,
      "outputs": []
    },
    {
      "cell_type": "markdown",
      "source": [
        "---"
      ],
      "metadata": {
        "id": "_Q9920Tlg-iF"
      }
    },
    {
      "cell_type": "markdown",
      "source": [
        "##🔹 Step 2: Define the Q-Network\n",
        "This is a simple neural network with three layers.\n",
        "\n",
        "It takes the state as input and outputs Q-values for each action."
      ],
      "metadata": {
        "id": "4PtAOgsQhESA"
      }
    },
    {
      "cell_type": "code",
      "source": [
        "class DQN(nn.Module):\n",
        "    def __init__(self, state_size, action_size):\n",
        "        super(DQN, self).__init__()\n",
        "        self.fc1 = nn.Linear(state_size, 24)\n",
        "        self.fc2 = nn.Linear(24, 24)\n",
        "        self.fc3 = nn.Linear(24, action_size)\n",
        "\n",
        "    def forward(self, x):\n",
        "        x = torch.relu(self.fc1(x))\n",
        "        x = torch.relu(self.fc2(x))\n",
        "        return self.fc3(x)\n"
      ],
      "metadata": {
        "id": "3oZ0KKdOhDPD"
      },
      "execution_count": null,
      "outputs": []
    },
    {
      "cell_type": "markdown",
      "source": [
        "🧠 **Explanation:**\n",
        "\n",
        "**state_size:** Number of features in the input state.\n",
        "\n",
        "**action_size:** Number of possible actions.\n",
        "\n",
        "Fully connected layers with **ReLU** activation.\n",
        "\n",
        "Final layer outputs Q-values (no activation).\n",
        "\n",
        "---"
      ],
      "metadata": {
        "id": "uzGYQlMChSp4"
      }
    },
    {
      "cell_type": "markdown",
      "source": [
        "##🔹 Step 3: Defining Hyperparameters\n",
        "\n",
        "These parameters control the learning process: exploration vs exploitation, learning rate, memory, etc.\n",
        "\n",
        "- **gamma:** Future reward discount closer to 1 means long-term focus.\n",
        "- **epsilon:** Controls exploration vs exploitation.\n",
        "- **batch_size:** How many experiences we train on at once.\n",
        "- **Memory_size:** Maximum size of the experience replay buffer."
      ],
      "metadata": {
        "id": "om-RhZxMhnbo"
      }
    },
    {
      "cell_type": "code",
      "source": [
        "# Hyperparameters\n",
        "gamma = 0.99             # Discount factor\n",
        "epsilon = 1.0            # Initial exploration rate\n",
        "epsilon_min = 0.01       # Minimum epsilon\n",
        "epsilon_decay = 0.995    # Decay rate\n",
        "learning_rate = 0.001\n",
        "batch_size = 64\n",
        "memory_size = 10000"
      ],
      "metadata": {
        "id": "iiKiqnHBiLM_"
      },
      "execution_count": null,
      "outputs": []
    },
    {
      "cell_type": "markdown",
      "source": [
        "---"
      ],
      "metadata": {
        "id": "6qd0uQ-1iPq3"
      }
    },
    {
      "cell_type": "markdown",
      "source": [
        "##🔹 Step 4: Initialize Replay Buffer\n",
        "\n",
        "The agent stores past experiences in memory and samples from it during training to break correlation in data.\n",
        "\n",
        "- Stores past experiences: (state, action, reward, next_state, done).\n",
        "- deque automatically removes old experiences when it exceeds the limit."
      ],
      "metadata": {
        "id": "GLr_2QiDidbp"
      }
    },
    {
      "cell_type": "code",
      "source": [
        "memory = deque(maxlen=memory_size)"
      ],
      "metadata": {
        "id": "6b7d-qEKiosW"
      },
      "execution_count": null,
      "outputs": []
    },
    {
      "cell_type": "markdown",
      "source": [
        "🧠 **Each memory entry is:**\n",
        "\n",
        "(state, action, reward, next_state, done)\n",
        "\n",
        "---"
      ],
      "metadata": {
        "id": "JKKySrwhisFx"
      }
    },
    {
      "cell_type": "markdown",
      "source": [
        "##🔹 Step 5: Initialize Environment\n",
        "\n",
        "We use the CartPole environment.\n"
      ],
      "metadata": {
        "id": "8OiNuactiC3e"
      }
    },
    {
      "cell_type": "code",
      "source": [
        "env = gym.make(\"CartPole-v1\")\n",
        "state_size = env.observation_space.shape[0]\n",
        "action_size = env.action_space.n"
      ],
      "metadata": {
        "id": "LMq4ihDYiSXb"
      },
      "execution_count": null,
      "outputs": []
    },
    {
      "cell_type": "markdown",
      "source": [
        "---"
      ],
      "metadata": {
        "id": "ANEoEsDpizbq"
      }
    },
    {
      "cell_type": "markdown",
      "source": [
        "##🔹 Step 6: Initialize Networks and Optimizer\n",
        "\n",
        "We use two networks: policy network (for selecting actions) and target network (for stable learning).\n",
        "\n",
        "- **policy_net:** Train actively and chooses actions.\n",
        "- **target_net:** Provides stable target Q-values (updated less frequently).\n",
        "- **Adam:** Adaptive optimizer to update weights.\n",
        "- **MSELoss:** Compares predicted Q-values to target Q-values.\n"
      ],
      "metadata": {
        "id": "A5qSGWpHi6vY"
      }
    },
    {
      "cell_type": "code",
      "source": [
        "device = torch.device(\"cuda\" if torch.cuda.is_available() else \"cpu\")\n",
        "\n",
        "policy_net = DQN(state_size, action_size).to(device)\n",
        "target_net = DQN(state_size, action_size).to(device)\n",
        "target_net.load_state_dict(policy_net.state_dict())  # Synchronize initially\n",
        "target_net.eval()  # Target network is not trained directly\n",
        "\n",
        "optimizer = optim.Adam(policy_net.parameters(), lr=learning_rate)\n",
        "loss_fn = nn.MSELoss()\n"
      ],
      "metadata": {
        "id": "TXLhDF3wiz71"
      },
      "execution_count": null,
      "outputs": []
    },
    {
      "cell_type": "markdown",
      "source": [
        "🧠 **Target Network** provides stable Q-value targets and is updated less frequently.\n",
        "\n",
        "---"
      ],
      "metadata": {
        "id": "mjw5dUE4jMce"
      }
    },
    {
      "cell_type": "markdown",
      "source": [
        "## 🔹 Step 7: Define Action Selection Function (ε-greedy)\n",
        "- The agent chooses actions using an exploration-exploitation strategy.\n",
        "- It explores randomly or exploits its learned policy based on epsilon.\n",
        "- Otherwise we select the action with the maximum predicted Q-value.\n",
        "\n"
      ],
      "metadata": {
        "id": "Wn7bL5ujjlUX"
      }
    },
    {
      "cell_type": "code",
      "source": [
        "def get_action(state, epsilon):\n",
        "    # With probability epsilon, explore (random action)\n",
        "    if random.random() < epsilon:\n",
        "        return random.choice(range(action_size))\n",
        "    else:\n",
        "        # Otherwise, exploit learned policy (choose best action)\n",
        "        state = torch.FloatTensor(state).unsqueeze(0).to(device)\n",
        "        with torch.no_grad():\n",
        "            q_values = policy_net(state)\n",
        "        return q_values.argmax().item()\n"
      ],
      "metadata": {
        "id": "uC3SSlUXjQvH"
      },
      "execution_count": null,
      "outputs": []
    },
    {
      "cell_type": "markdown",
      "source": [
        "🧠 **Key Points:**\n",
        "\n",
        "- Encourages exploration early in training.\n",
        "\n",
        "- As epsilon decays, the agent exploits more often.\n",
        "\n",
        "- unsqueeze(0) adds a batch dimension to the input state.\n",
        "\n",
        "---"
      ],
      "metadata": {
        "id": "r21tLZ5lj82V"
      }
    },
    {
      "cell_type": "markdown",
      "source": [
        "##🔹 Step 8: Define the Replay Function (Mini-Batch Training)\n",
        "\n",
        "This function randomly samples a batch of experiences from memory and trains the network using the Bellman equation.\n",
        "\n",
        "- Use the Bellman equation to compute target Q-values.\n",
        "- Minimize the MSE loss between predicted and target Q-values."
      ],
      "metadata": {
        "id": "upArHPY2kSpC"
      }
    },
    {
      "cell_type": "code",
      "source": [
        "def replay():\n",
        "    if len(memory) < batch_size:\n",
        "        return  # Not enough experiences to sample\n",
        "\n",
        "    minibatch = random.sample(memory, batch_size)\n",
        "\n",
        "    states, actions, rewards, next_states, dones = zip(*minibatch)\n",
        "\n",
        "    states = torch.FloatTensor(states).to(device)\n",
        "    actions = torch.LongTensor(actions).unsqueeze(1).to(device)\n",
        "    rewards = torch.FloatTensor(rewards).unsqueeze(1).to(device)\n",
        "    next_states = torch.FloatTensor(next_states).to(device)\n",
        "    dones = torch.FloatTensor(dones).unsqueeze(1).to(device)\n",
        "\n",
        "    # Current Q-values (for the selected actions)\n",
        "    current_q = policy_net(states).gather(1, actions)\n",
        "\n",
        "    # Compute the target Q-values using the target network\n",
        "    next_q = target_net(next_states).max(1)[0].detach().unsqueeze(1)\n",
        "    target_q = rewards + (gamma * next_q * (1 - dones))\n",
        "\n",
        "    # Compute loss between current Q and target Q\n",
        "    loss = loss_fn(current_q, target_q)\n",
        "\n",
        "    # Optimize the network\n",
        "    optimizer.zero_grad()\n",
        "    loss.backward()\n",
        "    optimizer.step()\n"
      ],
      "metadata": {
        "id": "OPizL4k2kEmz"
      },
      "execution_count": null,
      "outputs": []
    },
    {
      "cell_type": "markdown",
      "source": [
        "🧠 **Explanation:**\n",
        "\n",
        "- **gather(1, actions)** extracts Q-values for taken actions.\n",
        "\n",
        "- **next_q** uses the max Q-value from the target network.\n",
        "\n",
        "- **dones** ensures no future Q-values are added after terminal states.\n",
        "\n",
        "- **Gradient** descent minimizes the MSE loss.\n",
        "\n",
        "\n",
        "---"
      ],
      "metadata": {
        "id": "LPPQCX5TkzAI"
      }
    },
    {
      "cell_type": "markdown",
      "source": [
        "##🔹 Step 9: Training the Agent\n",
        "\n",
        "This loop trains the agent over multiple episodes, let the agent collect experience, update the network using replay, periodically sync the target network and decay the exploration rate.\n",
        "\n",
        "- Calls **get_action()** to pick actions and replay() to train.\n",
        "- Updates target network periodically for stability.\n",
        "- Decay epsilon to reduce exploration over time."
      ],
      "metadata": {
        "id": "xVSSJcoJlRhC"
      }
    },
    {
      "cell_type": "code",
      "source": [
        "episodes = 500\n",
        "target_update_freq = 10  # how often to update the target network\n",
        "\n",
        "for episode in range(episodes):\n",
        "    # Reset environment and get initial state\n",
        "    reset_result = env.reset()\n",
        "    state = reset_result[0] if isinstance(reset_result, tuple) else reset_result\n",
        "    total_reward = 0\n",
        "\n",
        "    for t in range(500):  # Max steps per episode\n",
        "        # Choose an action using epsilon-greedy\n",
        "        action = get_action(state, epsilon)\n",
        "\n",
        "        # Perform the action\n",
        "        step_result = env.step(action)\n",
        "\n",
        "        # Handle gym versions returning 4 or 5 values\n",
        "        if len(step_result) == 5:\n",
        "            next_state, reward, terminated, truncated, _ = step_result\n",
        "            done = terminated or truncated\n",
        "        else:\n",
        "            next_state, reward, done, _ = step_result\n",
        "\n",
        "        # Store experience\n",
        "        memory.append((state, action, reward, next_state, done))\n",
        "\n",
        "        # Move to the next state\n",
        "        state = next_state\n",
        "        total_reward += reward\n",
        "\n",
        "        # Train on sampled mini-batch\n",
        "        replay()\n",
        "\n",
        "        if done:\n",
        "            break\n",
        "\n",
        "    # Decay epsilon (exploration rate)\n",
        "    if epsilon > epsilon_min:\n",
        "        epsilon *= epsilon_decay\n",
        "\n",
        "    # Update target network\n",
        "    if episode % target_update_freq == 0:\n",
        "        target_net.load_state_dict(policy_net.state_dict())\n",
        "\n",
        "    print(f\"Episode {episode}, Total Reward: {total_reward}, Epsilon: {epsilon:.3f}\")\n"
      ],
      "metadata": {
        "colab": {
          "base_uri": "https://localhost:8080/"
        },
        "id": "DYLxL5oelCej",
        "outputId": "cd68ed18-a8d7-4b46-e949-0bad9693910c"
      },
      "execution_count": null,
      "outputs": [
        {
          "output_type": "stream",
          "name": "stdout",
          "text": [
            "Episode 0, Total Reward: 13.0, Epsilon: 0.995\n",
            "Episode 1, Total Reward: 10.0, Epsilon: 0.990\n",
            "Episode 2, Total Reward: 29.0, Epsilon: 0.985\n",
            "Episode 3, Total Reward: 48.0, Epsilon: 0.980\n"
          ]
        },
        {
          "output_type": "stream",
          "name": "stderr",
          "text": [
            "/tmp/ipython-input-9-590504197.py:9: UserWarning: Creating a tensor from a list of numpy.ndarrays is extremely slow. Please consider converting the list to a single numpy.ndarray with numpy.array() before converting to a tensor. (Triggered internally at /pytorch/torch/csrc/utils/tensor_new.cpp:254.)\n",
            "  states = torch.FloatTensor(states).to(device)\n"
          ]
        },
        {
          "output_type": "stream",
          "name": "stdout",
          "text": [
            "Episode 4, Total Reward: 20.0, Epsilon: 0.975\n",
            "Episode 5, Total Reward: 16.0, Epsilon: 0.970\n",
            "Episode 6, Total Reward: 12.0, Epsilon: 0.966\n",
            "Episode 7, Total Reward: 50.0, Epsilon: 0.961\n",
            "Episode 8, Total Reward: 40.0, Epsilon: 0.956\n",
            "Episode 9, Total Reward: 26.0, Epsilon: 0.951\n",
            "Episode 10, Total Reward: 14.0, Epsilon: 0.946\n",
            "Episode 11, Total Reward: 24.0, Epsilon: 0.942\n",
            "Episode 12, Total Reward: 26.0, Epsilon: 0.937\n",
            "Episode 13, Total Reward: 16.0, Epsilon: 0.932\n",
            "Episode 14, Total Reward: 27.0, Epsilon: 0.928\n",
            "Episode 15, Total Reward: 12.0, Epsilon: 0.923\n",
            "Episode 16, Total Reward: 14.0, Epsilon: 0.918\n",
            "Episode 17, Total Reward: 26.0, Epsilon: 0.914\n",
            "Episode 18, Total Reward: 18.0, Epsilon: 0.909\n",
            "Episode 19, Total Reward: 15.0, Epsilon: 0.905\n",
            "Episode 20, Total Reward: 19.0, Epsilon: 0.900\n",
            "Episode 21, Total Reward: 32.0, Epsilon: 0.896\n",
            "Episode 22, Total Reward: 34.0, Epsilon: 0.891\n",
            "Episode 23, Total Reward: 18.0, Epsilon: 0.887\n",
            "Episode 24, Total Reward: 27.0, Epsilon: 0.882\n",
            "Episode 25, Total Reward: 24.0, Epsilon: 0.878\n",
            "Episode 26, Total Reward: 16.0, Epsilon: 0.873\n",
            "Episode 27, Total Reward: 13.0, Epsilon: 0.869\n",
            "Episode 28, Total Reward: 19.0, Epsilon: 0.865\n",
            "Episode 29, Total Reward: 36.0, Epsilon: 0.860\n",
            "Episode 30, Total Reward: 21.0, Epsilon: 0.856\n",
            "Episode 31, Total Reward: 17.0, Epsilon: 0.852\n",
            "Episode 32, Total Reward: 18.0, Epsilon: 0.848\n",
            "Episode 33, Total Reward: 11.0, Epsilon: 0.843\n",
            "Episode 34, Total Reward: 14.0, Epsilon: 0.839\n",
            "Episode 35, Total Reward: 19.0, Epsilon: 0.835\n",
            "Episode 36, Total Reward: 26.0, Epsilon: 0.831\n",
            "Episode 37, Total Reward: 17.0, Epsilon: 0.827\n",
            "Episode 38, Total Reward: 27.0, Epsilon: 0.822\n",
            "Episode 39, Total Reward: 13.0, Epsilon: 0.818\n",
            "Episode 40, Total Reward: 12.0, Epsilon: 0.814\n",
            "Episode 41, Total Reward: 15.0, Epsilon: 0.810\n",
            "Episode 42, Total Reward: 27.0, Epsilon: 0.806\n",
            "Episode 43, Total Reward: 71.0, Epsilon: 0.802\n",
            "Episode 44, Total Reward: 16.0, Epsilon: 0.798\n",
            "Episode 45, Total Reward: 15.0, Epsilon: 0.794\n",
            "Episode 46, Total Reward: 15.0, Epsilon: 0.790\n",
            "Episode 47, Total Reward: 41.0, Epsilon: 0.786\n",
            "Episode 48, Total Reward: 11.0, Epsilon: 0.782\n",
            "Episode 49, Total Reward: 20.0, Epsilon: 0.778\n",
            "Episode 50, Total Reward: 16.0, Epsilon: 0.774\n",
            "Episode 51, Total Reward: 29.0, Epsilon: 0.771\n",
            "Episode 52, Total Reward: 11.0, Epsilon: 0.767\n",
            "Episode 53, Total Reward: 15.0, Epsilon: 0.763\n",
            "Episode 54, Total Reward: 39.0, Epsilon: 0.759\n",
            "Episode 55, Total Reward: 30.0, Epsilon: 0.755\n",
            "Episode 56, Total Reward: 33.0, Epsilon: 0.751\n",
            "Episode 57, Total Reward: 27.0, Epsilon: 0.748\n",
            "Episode 58, Total Reward: 44.0, Epsilon: 0.744\n",
            "Episode 59, Total Reward: 61.0, Epsilon: 0.740\n",
            "Episode 60, Total Reward: 15.0, Epsilon: 0.737\n",
            "Episode 61, Total Reward: 78.0, Epsilon: 0.733\n",
            "Episode 62, Total Reward: 30.0, Epsilon: 0.729\n",
            "Episode 63, Total Reward: 26.0, Epsilon: 0.726\n",
            "Episode 64, Total Reward: 58.0, Epsilon: 0.722\n",
            "Episode 65, Total Reward: 28.0, Epsilon: 0.718\n",
            "Episode 66, Total Reward: 84.0, Epsilon: 0.715\n",
            "Episode 67, Total Reward: 14.0, Epsilon: 0.711\n",
            "Episode 68, Total Reward: 33.0, Epsilon: 0.708\n",
            "Episode 69, Total Reward: 81.0, Epsilon: 0.704\n",
            "Episode 70, Total Reward: 22.0, Epsilon: 0.701\n",
            "Episode 71, Total Reward: 19.0, Epsilon: 0.697\n",
            "Episode 72, Total Reward: 43.0, Epsilon: 0.694\n",
            "Episode 73, Total Reward: 54.0, Epsilon: 0.690\n",
            "Episode 74, Total Reward: 41.0, Epsilon: 0.687\n",
            "Episode 75, Total Reward: 45.0, Epsilon: 0.683\n",
            "Episode 76, Total Reward: 92.0, Epsilon: 0.680\n",
            "Episode 77, Total Reward: 45.0, Epsilon: 0.676\n",
            "Episode 78, Total Reward: 22.0, Epsilon: 0.673\n",
            "Episode 79, Total Reward: 17.0, Epsilon: 0.670\n",
            "Episode 80, Total Reward: 83.0, Epsilon: 0.666\n",
            "Episode 81, Total Reward: 22.0, Epsilon: 0.663\n",
            "Episode 82, Total Reward: 14.0, Epsilon: 0.660\n",
            "Episode 83, Total Reward: 40.0, Epsilon: 0.656\n",
            "Episode 84, Total Reward: 29.0, Epsilon: 0.653\n",
            "Episode 85, Total Reward: 21.0, Epsilon: 0.650\n",
            "Episode 86, Total Reward: 27.0, Epsilon: 0.647\n",
            "Episode 87, Total Reward: 77.0, Epsilon: 0.643\n",
            "Episode 88, Total Reward: 16.0, Epsilon: 0.640\n",
            "Episode 89, Total Reward: 10.0, Epsilon: 0.637\n",
            "Episode 90, Total Reward: 40.0, Epsilon: 0.634\n",
            "Episode 91, Total Reward: 41.0, Epsilon: 0.631\n",
            "Episode 92, Total Reward: 61.0, Epsilon: 0.627\n",
            "Episode 93, Total Reward: 96.0, Epsilon: 0.624\n",
            "Episode 94, Total Reward: 22.0, Epsilon: 0.621\n",
            "Episode 95, Total Reward: 15.0, Epsilon: 0.618\n",
            "Episode 96, Total Reward: 14.0, Epsilon: 0.615\n",
            "Episode 97, Total Reward: 37.0, Epsilon: 0.612\n",
            "Episode 98, Total Reward: 33.0, Epsilon: 0.609\n",
            "Episode 99, Total Reward: 37.0, Epsilon: 0.606\n",
            "Episode 100, Total Reward: 17.0, Epsilon: 0.603\n",
            "Episode 101, Total Reward: 29.0, Epsilon: 0.600\n",
            "Episode 102, Total Reward: 30.0, Epsilon: 0.597\n",
            "Episode 103, Total Reward: 124.0, Epsilon: 0.594\n",
            "Episode 104, Total Reward: 224.0, Epsilon: 0.591\n",
            "Episode 105, Total Reward: 29.0, Epsilon: 0.588\n",
            "Episode 106, Total Reward: 66.0, Epsilon: 0.585\n",
            "Episode 107, Total Reward: 42.0, Epsilon: 0.582\n",
            "Episode 108, Total Reward: 28.0, Epsilon: 0.579\n",
            "Episode 109, Total Reward: 13.0, Epsilon: 0.576\n",
            "Episode 110, Total Reward: 78.0, Epsilon: 0.573\n",
            "Episode 111, Total Reward: 19.0, Epsilon: 0.570\n",
            "Episode 112, Total Reward: 21.0, Epsilon: 0.568\n",
            "Episode 113, Total Reward: 25.0, Epsilon: 0.565\n",
            "Episode 114, Total Reward: 34.0, Epsilon: 0.562\n",
            "Episode 115, Total Reward: 53.0, Epsilon: 0.559\n",
            "Episode 116, Total Reward: 100.0, Epsilon: 0.556\n",
            "Episode 117, Total Reward: 23.0, Epsilon: 0.554\n",
            "Episode 118, Total Reward: 68.0, Epsilon: 0.551\n",
            "Episode 119, Total Reward: 65.0, Epsilon: 0.548\n",
            "Episode 120, Total Reward: 47.0, Epsilon: 0.545\n",
            "Episode 121, Total Reward: 186.0, Epsilon: 0.543\n",
            "Episode 122, Total Reward: 14.0, Epsilon: 0.540\n",
            "Episode 123, Total Reward: 217.0, Epsilon: 0.537\n",
            "Episode 124, Total Reward: 22.0, Epsilon: 0.534\n",
            "Episode 125, Total Reward: 187.0, Epsilon: 0.532\n",
            "Episode 126, Total Reward: 61.0, Epsilon: 0.529\n",
            "Episode 127, Total Reward: 98.0, Epsilon: 0.526\n",
            "Episode 128, Total Reward: 108.0, Epsilon: 0.524\n",
            "Episode 129, Total Reward: 49.0, Epsilon: 0.521\n",
            "Episode 130, Total Reward: 20.0, Epsilon: 0.519\n",
            "Episode 131, Total Reward: 26.0, Epsilon: 0.516\n",
            "Episode 132, Total Reward: 192.0, Epsilon: 0.513\n",
            "Episode 133, Total Reward: 121.0, Epsilon: 0.511\n",
            "Episode 134, Total Reward: 235.0, Epsilon: 0.508\n",
            "Episode 135, Total Reward: 11.0, Epsilon: 0.506\n",
            "Episode 136, Total Reward: 31.0, Epsilon: 0.503\n",
            "Episode 137, Total Reward: 14.0, Epsilon: 0.501\n",
            "Episode 138, Total Reward: 80.0, Epsilon: 0.498\n",
            "Episode 139, Total Reward: 28.0, Epsilon: 0.496\n",
            "Episode 140, Total Reward: 81.0, Epsilon: 0.493\n",
            "Episode 141, Total Reward: 67.0, Epsilon: 0.491\n",
            "Episode 142, Total Reward: 72.0, Epsilon: 0.488\n",
            "Episode 143, Total Reward: 113.0, Epsilon: 0.486\n",
            "Episode 144, Total Reward: 121.0, Epsilon: 0.483\n",
            "Episode 145, Total Reward: 61.0, Epsilon: 0.481\n",
            "Episode 146, Total Reward: 128.0, Epsilon: 0.479\n",
            "Episode 147, Total Reward: 48.0, Epsilon: 0.476\n",
            "Episode 148, Total Reward: 245.0, Epsilon: 0.474\n",
            "Episode 149, Total Reward: 26.0, Epsilon: 0.471\n",
            "Episode 150, Total Reward: 236.0, Epsilon: 0.469\n",
            "Episode 151, Total Reward: 32.0, Epsilon: 0.467\n",
            "Episode 152, Total Reward: 90.0, Epsilon: 0.464\n",
            "Episode 153, Total Reward: 198.0, Epsilon: 0.462\n",
            "Episode 154, Total Reward: 125.0, Epsilon: 0.460\n",
            "Episode 155, Total Reward: 137.0, Epsilon: 0.458\n",
            "Episode 156, Total Reward: 59.0, Epsilon: 0.455\n",
            "Episode 157, Total Reward: 84.0, Epsilon: 0.453\n",
            "Episode 158, Total Reward: 255.0, Epsilon: 0.451\n",
            "Episode 159, Total Reward: 233.0, Epsilon: 0.448\n",
            "Episode 160, Total Reward: 298.0, Epsilon: 0.446\n",
            "Episode 161, Total Reward: 225.0, Epsilon: 0.444\n",
            "Episode 162, Total Reward: 147.0, Epsilon: 0.442\n",
            "Episode 163, Total Reward: 208.0, Epsilon: 0.440\n",
            "Episode 164, Total Reward: 73.0, Epsilon: 0.437\n",
            "Episode 165, Total Reward: 52.0, Epsilon: 0.435\n",
            "Episode 166, Total Reward: 234.0, Epsilon: 0.433\n",
            "Episode 167, Total Reward: 95.0, Epsilon: 0.431\n",
            "Episode 168, Total Reward: 37.0, Epsilon: 0.429\n",
            "Episode 169, Total Reward: 95.0, Epsilon: 0.427\n",
            "Episode 170, Total Reward: 134.0, Epsilon: 0.424\n",
            "Episode 171, Total Reward: 224.0, Epsilon: 0.422\n",
            "Episode 172, Total Reward: 199.0, Epsilon: 0.420\n",
            "Episode 173, Total Reward: 99.0, Epsilon: 0.418\n",
            "Episode 174, Total Reward: 243.0, Epsilon: 0.416\n",
            "Episode 175, Total Reward: 78.0, Epsilon: 0.414\n",
            "Episode 176, Total Reward: 289.0, Epsilon: 0.412\n",
            "Episode 177, Total Reward: 205.0, Epsilon: 0.410\n",
            "Episode 178, Total Reward: 116.0, Epsilon: 0.408\n",
            "Episode 179, Total Reward: 35.0, Epsilon: 0.406\n",
            "Episode 180, Total Reward: 41.0, Epsilon: 0.404\n",
            "Episode 181, Total Reward: 180.0, Epsilon: 0.402\n",
            "Episode 182, Total Reward: 201.0, Epsilon: 0.400\n",
            "Episode 183, Total Reward: 220.0, Epsilon: 0.398\n",
            "Episode 184, Total Reward: 133.0, Epsilon: 0.396\n",
            "Episode 185, Total Reward: 173.0, Epsilon: 0.394\n",
            "Episode 186, Total Reward: 184.0, Epsilon: 0.392\n",
            "Episode 187, Total Reward: 111.0, Epsilon: 0.390\n",
            "Episode 188, Total Reward: 169.0, Epsilon: 0.388\n",
            "Episode 189, Total Reward: 198.0, Epsilon: 0.386\n",
            "Episode 190, Total Reward: 206.0, Epsilon: 0.384\n",
            "Episode 191, Total Reward: 242.0, Epsilon: 0.382\n",
            "Episode 192, Total Reward: 335.0, Epsilon: 0.380\n",
            "Episode 193, Total Reward: 306.0, Epsilon: 0.378\n",
            "Episode 194, Total Reward: 363.0, Epsilon: 0.376\n",
            "Episode 195, Total Reward: 360.0, Epsilon: 0.374\n",
            "Episode 196, Total Reward: 196.0, Epsilon: 0.373\n",
            "Episode 197, Total Reward: 256.0, Epsilon: 0.371\n",
            "Episode 198, Total Reward: 151.0, Epsilon: 0.369\n",
            "Episode 199, Total Reward: 215.0, Epsilon: 0.367\n",
            "Episode 200, Total Reward: 92.0, Epsilon: 0.365\n",
            "Episode 201, Total Reward: 193.0, Epsilon: 0.363\n",
            "Episode 202, Total Reward: 23.0, Epsilon: 0.361\n",
            "Episode 203, Total Reward: 301.0, Epsilon: 0.360\n",
            "Episode 204, Total Reward: 270.0, Epsilon: 0.358\n",
            "Episode 205, Total Reward: 313.0, Epsilon: 0.356\n",
            "Episode 206, Total Reward: 207.0, Epsilon: 0.354\n",
            "Episode 207, Total Reward: 143.0, Epsilon: 0.353\n",
            "Episode 208, Total Reward: 205.0, Epsilon: 0.351\n",
            "Episode 209, Total Reward: 212.0, Epsilon: 0.349\n",
            "Episode 210, Total Reward: 67.0, Epsilon: 0.347\n",
            "Episode 211, Total Reward: 236.0, Epsilon: 0.346\n",
            "Episode 212, Total Reward: 295.0, Epsilon: 0.344\n",
            "Episode 213, Total Reward: 304.0, Epsilon: 0.342\n",
            "Episode 214, Total Reward: 273.0, Epsilon: 0.340\n",
            "Episode 215, Total Reward: 229.0, Epsilon: 0.339\n",
            "Episode 216, Total Reward: 244.0, Epsilon: 0.337\n",
            "Episode 217, Total Reward: 206.0, Epsilon: 0.335\n",
            "Episode 218, Total Reward: 152.0, Epsilon: 0.334\n",
            "Episode 219, Total Reward: 243.0, Epsilon: 0.332\n",
            "Episode 220, Total Reward: 241.0, Epsilon: 0.330\n",
            "Episode 221, Total Reward: 290.0, Epsilon: 0.329\n",
            "Episode 222, Total Reward: 207.0, Epsilon: 0.327\n",
            "Episode 223, Total Reward: 141.0, Epsilon: 0.325\n",
            "Episode 224, Total Reward: 229.0, Epsilon: 0.324\n",
            "Episode 225, Total Reward: 196.0, Epsilon: 0.322\n",
            "Episode 226, Total Reward: 196.0, Epsilon: 0.321\n",
            "Episode 227, Total Reward: 121.0, Epsilon: 0.319\n",
            "Episode 228, Total Reward: 205.0, Epsilon: 0.317\n",
            "Episode 229, Total Reward: 219.0, Epsilon: 0.316\n",
            "Episode 230, Total Reward: 209.0, Epsilon: 0.314\n",
            "Episode 231, Total Reward: 177.0, Epsilon: 0.313\n",
            "Episode 232, Total Reward: 202.0, Epsilon: 0.311\n",
            "Episode 233, Total Reward: 234.0, Epsilon: 0.309\n",
            "Episode 234, Total Reward: 253.0, Epsilon: 0.308\n",
            "Episode 235, Total Reward: 120.0, Epsilon: 0.306\n",
            "Episode 236, Total Reward: 126.0, Epsilon: 0.305\n",
            "Episode 237, Total Reward: 87.0, Epsilon: 0.303\n",
            "Episode 238, Total Reward: 101.0, Epsilon: 0.302\n",
            "Episode 239, Total Reward: 199.0, Epsilon: 0.300\n",
            "Episode 240, Total Reward: 205.0, Epsilon: 0.299\n",
            "Episode 241, Total Reward: 107.0, Epsilon: 0.297\n",
            "Episode 242, Total Reward: 27.0, Epsilon: 0.296\n",
            "Episode 243, Total Reward: 150.0, Epsilon: 0.294\n",
            "Episode 244, Total Reward: 139.0, Epsilon: 0.293\n",
            "Episode 245, Total Reward: 160.0, Epsilon: 0.291\n",
            "Episode 246, Total Reward: 152.0, Epsilon: 0.290\n",
            "Episode 247, Total Reward: 161.0, Epsilon: 0.288\n",
            "Episode 248, Total Reward: 90.0, Epsilon: 0.287\n",
            "Episode 249, Total Reward: 20.0, Epsilon: 0.286\n",
            "Episode 250, Total Reward: 180.0, Epsilon: 0.284\n",
            "Episode 251, Total Reward: 99.0, Epsilon: 0.283\n",
            "Episode 252, Total Reward: 172.0, Epsilon: 0.281\n",
            "Episode 253, Total Reward: 167.0, Epsilon: 0.280\n",
            "Episode 254, Total Reward: 175.0, Epsilon: 0.279\n",
            "Episode 255, Total Reward: 174.0, Epsilon: 0.277\n",
            "Episode 256, Total Reward: 157.0, Epsilon: 0.276\n",
            "Episode 257, Total Reward: 170.0, Epsilon: 0.274\n",
            "Episode 258, Total Reward: 147.0, Epsilon: 0.273\n",
            "Episode 259, Total Reward: 144.0, Epsilon: 0.272\n",
            "Episode 260, Total Reward: 155.0, Epsilon: 0.270\n",
            "Episode 261, Total Reward: 142.0, Epsilon: 0.269\n",
            "Episode 262, Total Reward: 209.0, Epsilon: 0.268\n",
            "Episode 263, Total Reward: 153.0, Epsilon: 0.266\n",
            "Episode 264, Total Reward: 106.0, Epsilon: 0.265\n",
            "Episode 265, Total Reward: 158.0, Epsilon: 0.264\n",
            "Episode 266, Total Reward: 246.0, Epsilon: 0.262\n",
            "Episode 267, Total Reward: 162.0, Epsilon: 0.261\n",
            "Episode 268, Total Reward: 172.0, Epsilon: 0.260\n",
            "Episode 269, Total Reward: 215.0, Epsilon: 0.258\n",
            "Episode 270, Total Reward: 178.0, Epsilon: 0.257\n",
            "Episode 271, Total Reward: 168.0, Epsilon: 0.256\n",
            "Episode 272, Total Reward: 37.0, Epsilon: 0.255\n",
            "Episode 273, Total Reward: 164.0, Epsilon: 0.253\n",
            "Episode 274, Total Reward: 173.0, Epsilon: 0.252\n",
            "Episode 275, Total Reward: 215.0, Epsilon: 0.251\n",
            "Episode 276, Total Reward: 164.0, Epsilon: 0.249\n",
            "Episode 277, Total Reward: 95.0, Epsilon: 0.248\n",
            "Episode 278, Total Reward: 119.0, Epsilon: 0.247\n",
            "Episode 279, Total Reward: 189.0, Epsilon: 0.246\n",
            "Episode 280, Total Reward: 175.0, Epsilon: 0.245\n",
            "Episode 281, Total Reward: 168.0, Epsilon: 0.243\n",
            "Episode 282, Total Reward: 110.0, Epsilon: 0.242\n",
            "Episode 283, Total Reward: 169.0, Epsilon: 0.241\n",
            "Episode 284, Total Reward: 160.0, Epsilon: 0.240\n",
            "Episode 285, Total Reward: 158.0, Epsilon: 0.238\n",
            "Episode 286, Total Reward: 179.0, Epsilon: 0.237\n",
            "Episode 287, Total Reward: 166.0, Epsilon: 0.236\n",
            "Episode 288, Total Reward: 149.0, Epsilon: 0.235\n",
            "Episode 289, Total Reward: 47.0, Epsilon: 0.234\n",
            "Episode 290, Total Reward: 160.0, Epsilon: 0.233\n",
            "Episode 291, Total Reward: 154.0, Epsilon: 0.231\n",
            "Episode 292, Total Reward: 168.0, Epsilon: 0.230\n",
            "Episode 293, Total Reward: 184.0, Epsilon: 0.229\n",
            "Episode 294, Total Reward: 149.0, Epsilon: 0.228\n",
            "Episode 295, Total Reward: 161.0, Epsilon: 0.227\n",
            "Episode 296, Total Reward: 156.0, Epsilon: 0.226\n",
            "Episode 297, Total Reward: 183.0, Epsilon: 0.225\n",
            "Episode 298, Total Reward: 85.0, Epsilon: 0.223\n",
            "Episode 299, Total Reward: 51.0, Epsilon: 0.222\n",
            "Episode 300, Total Reward: 157.0, Epsilon: 0.221\n",
            "Episode 301, Total Reward: 156.0, Epsilon: 0.220\n",
            "Episode 302, Total Reward: 188.0, Epsilon: 0.219\n",
            "Episode 303, Total Reward: 155.0, Epsilon: 0.218\n",
            "Episode 304, Total Reward: 193.0, Epsilon: 0.217\n",
            "Episode 305, Total Reward: 164.0, Epsilon: 0.216\n",
            "Episode 306, Total Reward: 193.0, Epsilon: 0.215\n",
            "Episode 307, Total Reward: 164.0, Epsilon: 0.214\n",
            "Episode 308, Total Reward: 43.0, Epsilon: 0.212\n",
            "Episode 309, Total Reward: 176.0, Epsilon: 0.211\n",
            "Episode 310, Total Reward: 147.0, Epsilon: 0.210\n",
            "Episode 311, Total Reward: 157.0, Epsilon: 0.209\n",
            "Episode 312, Total Reward: 178.0, Epsilon: 0.208\n",
            "Episode 313, Total Reward: 181.0, Epsilon: 0.207\n",
            "Episode 314, Total Reward: 144.0, Epsilon: 0.206\n",
            "Episode 315, Total Reward: 41.0, Epsilon: 0.205\n",
            "Episode 316, Total Reward: 168.0, Epsilon: 0.204\n",
            "Episode 317, Total Reward: 143.0, Epsilon: 0.203\n",
            "Episode 318, Total Reward: 188.0, Epsilon: 0.202\n",
            "Episode 319, Total Reward: 179.0, Epsilon: 0.201\n",
            "Episode 320, Total Reward: 180.0, Epsilon: 0.200\n",
            "Episode 321, Total Reward: 137.0, Epsilon: 0.199\n",
            "Episode 322, Total Reward: 139.0, Epsilon: 0.198\n",
            "Episode 323, Total Reward: 135.0, Epsilon: 0.197\n",
            "Episode 324, Total Reward: 14.0, Epsilon: 0.196\n",
            "Episode 325, Total Reward: 40.0, Epsilon: 0.195\n",
            "Episode 326, Total Reward: 137.0, Epsilon: 0.194\n",
            "Episode 327, Total Reward: 152.0, Epsilon: 0.193\n",
            "Episode 328, Total Reward: 56.0, Epsilon: 0.192\n",
            "Episode 329, Total Reward: 167.0, Epsilon: 0.191\n",
            "Episode 330, Total Reward: 26.0, Epsilon: 0.190\n",
            "Episode 331, Total Reward: 154.0, Epsilon: 0.189\n",
            "Episode 332, Total Reward: 166.0, Epsilon: 0.188\n",
            "Episode 333, Total Reward: 171.0, Epsilon: 0.187\n",
            "Episode 334, Total Reward: 171.0, Epsilon: 0.187\n",
            "Episode 335, Total Reward: 159.0, Epsilon: 0.186\n",
            "Episode 336, Total Reward: 152.0, Epsilon: 0.185\n",
            "Episode 337, Total Reward: 161.0, Epsilon: 0.184\n",
            "Episode 338, Total Reward: 185.0, Epsilon: 0.183\n",
            "Episode 339, Total Reward: 153.0, Epsilon: 0.182\n",
            "Episode 340, Total Reward: 210.0, Epsilon: 0.181\n",
            "Episode 341, Total Reward: 63.0, Epsilon: 0.180\n",
            "Episode 342, Total Reward: 189.0, Epsilon: 0.179\n",
            "Episode 343, Total Reward: 150.0, Epsilon: 0.178\n",
            "Episode 344, Total Reward: 152.0, Epsilon: 0.177\n",
            "Episode 345, Total Reward: 158.0, Epsilon: 0.177\n",
            "Episode 346, Total Reward: 165.0, Epsilon: 0.176\n",
            "Episode 347, Total Reward: 150.0, Epsilon: 0.175\n",
            "Episode 348, Total Reward: 144.0, Epsilon: 0.174\n",
            "Episode 349, Total Reward: 153.0, Epsilon: 0.173\n",
            "Episode 350, Total Reward: 156.0, Epsilon: 0.172\n",
            "Episode 351, Total Reward: 158.0, Epsilon: 0.171\n",
            "Episode 352, Total Reward: 63.0, Epsilon: 0.170\n",
            "Episode 353, Total Reward: 148.0, Epsilon: 0.170\n",
            "Episode 354, Total Reward: 148.0, Epsilon: 0.169\n",
            "Episode 355, Total Reward: 185.0, Epsilon: 0.168\n",
            "Episode 356, Total Reward: 153.0, Epsilon: 0.167\n",
            "Episode 357, Total Reward: 188.0, Epsilon: 0.166\n",
            "Episode 358, Total Reward: 187.0, Epsilon: 0.165\n",
            "Episode 359, Total Reward: 186.0, Epsilon: 0.165\n",
            "Episode 360, Total Reward: 134.0, Epsilon: 0.164\n",
            "Episode 361, Total Reward: 156.0, Epsilon: 0.163\n",
            "Episode 362, Total Reward: 179.0, Epsilon: 0.162\n",
            "Episode 363, Total Reward: 82.0, Epsilon: 0.161\n",
            "Episode 364, Total Reward: 110.0, Epsilon: 0.160\n",
            "Episode 365, Total Reward: 192.0, Epsilon: 0.160\n",
            "Episode 366, Total Reward: 154.0, Epsilon: 0.159\n",
            "Episode 367, Total Reward: 136.0, Epsilon: 0.158\n",
            "Episode 368, Total Reward: 183.0, Epsilon: 0.157\n",
            "Episode 369, Total Reward: 216.0, Epsilon: 0.157\n",
            "Episode 370, Total Reward: 155.0, Epsilon: 0.156\n",
            "Episode 371, Total Reward: 170.0, Epsilon: 0.155\n",
            "Episode 372, Total Reward: 185.0, Epsilon: 0.154\n",
            "Episode 373, Total Reward: 181.0, Epsilon: 0.153\n",
            "Episode 374, Total Reward: 196.0, Epsilon: 0.153\n",
            "Episode 375, Total Reward: 170.0, Epsilon: 0.152\n",
            "Episode 376, Total Reward: 159.0, Epsilon: 0.151\n",
            "Episode 377, Total Reward: 182.0, Epsilon: 0.150\n",
            "Episode 378, Total Reward: 180.0, Epsilon: 0.150\n",
            "Episode 379, Total Reward: 182.0, Epsilon: 0.149\n",
            "Episode 380, Total Reward: 181.0, Epsilon: 0.148\n",
            "Episode 381, Total Reward: 500.0, Epsilon: 0.147\n",
            "Episode 382, Total Reward: 228.0, Epsilon: 0.147\n",
            "Episode 383, Total Reward: 256.0, Epsilon: 0.146\n",
            "Episode 384, Total Reward: 273.0, Epsilon: 0.145\n",
            "Episode 385, Total Reward: 262.0, Epsilon: 0.144\n",
            "Episode 386, Total Reward: 183.0, Epsilon: 0.144\n",
            "Episode 387, Total Reward: 226.0, Epsilon: 0.143\n",
            "Episode 388, Total Reward: 256.0, Epsilon: 0.142\n",
            "Episode 389, Total Reward: 166.0, Epsilon: 0.142\n",
            "Episode 390, Total Reward: 201.0, Epsilon: 0.141\n",
            "Episode 391, Total Reward: 214.0, Epsilon: 0.140\n",
            "Episode 392, Total Reward: 255.0, Epsilon: 0.139\n",
            "Episode 393, Total Reward: 208.0, Epsilon: 0.139\n",
            "Episode 394, Total Reward: 174.0, Epsilon: 0.138\n",
            "Episode 395, Total Reward: 191.0, Epsilon: 0.137\n",
            "Episode 396, Total Reward: 172.0, Epsilon: 0.137\n",
            "Episode 397, Total Reward: 154.0, Epsilon: 0.136\n",
            "Episode 398, Total Reward: 152.0, Epsilon: 0.135\n",
            "Episode 399, Total Reward: 165.0, Epsilon: 0.135\n",
            "Episode 400, Total Reward: 150.0, Epsilon: 0.134\n",
            "Episode 401, Total Reward: 137.0, Epsilon: 0.133\n",
            "Episode 402, Total Reward: 142.0, Epsilon: 0.133\n",
            "Episode 403, Total Reward: 141.0, Epsilon: 0.132\n",
            "Episode 404, Total Reward: 134.0, Epsilon: 0.131\n",
            "Episode 405, Total Reward: 142.0, Epsilon: 0.131\n",
            "Episode 406, Total Reward: 133.0, Epsilon: 0.130\n",
            "Episode 407, Total Reward: 143.0, Epsilon: 0.129\n",
            "Episode 408, Total Reward: 131.0, Epsilon: 0.129\n",
            "Episode 409, Total Reward: 138.0, Epsilon: 0.128\n",
            "Episode 410, Total Reward: 142.0, Epsilon: 0.127\n",
            "Episode 411, Total Reward: 137.0, Epsilon: 0.127\n",
            "Episode 412, Total Reward: 127.0, Epsilon: 0.126\n",
            "Episode 413, Total Reward: 135.0, Epsilon: 0.126\n",
            "Episode 414, Total Reward: 127.0, Epsilon: 0.125\n",
            "Episode 415, Total Reward: 76.0, Epsilon: 0.124\n",
            "Episode 416, Total Reward: 136.0, Epsilon: 0.124\n",
            "Episode 417, Total Reward: 126.0, Epsilon: 0.123\n",
            "Episode 418, Total Reward: 148.0, Epsilon: 0.122\n",
            "Episode 419, Total Reward: 132.0, Epsilon: 0.122\n",
            "Episode 420, Total Reward: 130.0, Epsilon: 0.121\n",
            "Episode 421, Total Reward: 123.0, Epsilon: 0.121\n",
            "Episode 422, Total Reward: 123.0, Epsilon: 0.120\n",
            "Episode 423, Total Reward: 118.0, Epsilon: 0.119\n",
            "Episode 424, Total Reward: 119.0, Epsilon: 0.119\n",
            "Episode 425, Total Reward: 123.0, Epsilon: 0.118\n",
            "Episode 426, Total Reward: 116.0, Epsilon: 0.118\n",
            "Episode 427, Total Reward: 120.0, Epsilon: 0.117\n",
            "Episode 428, Total Reward: 117.0, Epsilon: 0.116\n",
            "Episode 429, Total Reward: 121.0, Epsilon: 0.116\n",
            "Episode 430, Total Reward: 111.0, Epsilon: 0.115\n",
            "Episode 431, Total Reward: 117.0, Epsilon: 0.115\n",
            "Episode 432, Total Reward: 120.0, Epsilon: 0.114\n",
            "Episode 433, Total Reward: 120.0, Epsilon: 0.114\n",
            "Episode 434, Total Reward: 115.0, Epsilon: 0.113\n",
            "Episode 435, Total Reward: 121.0, Epsilon: 0.112\n",
            "Episode 436, Total Reward: 124.0, Epsilon: 0.112\n",
            "Episode 437, Total Reward: 134.0, Epsilon: 0.111\n",
            "Episode 438, Total Reward: 115.0, Epsilon: 0.111\n",
            "Episode 439, Total Reward: 124.0, Epsilon: 0.110\n",
            "Episode 440, Total Reward: 127.0, Epsilon: 0.110\n",
            "Episode 441, Total Reward: 31.0, Epsilon: 0.109\n",
            "Episode 442, Total Reward: 121.0, Epsilon: 0.109\n",
            "Episode 443, Total Reward: 123.0, Epsilon: 0.108\n",
            "Episode 444, Total Reward: 131.0, Epsilon: 0.107\n",
            "Episode 445, Total Reward: 25.0, Epsilon: 0.107\n",
            "Episode 446, Total Reward: 117.0, Epsilon: 0.106\n",
            "Episode 447, Total Reward: 145.0, Epsilon: 0.106\n",
            "Episode 448, Total Reward: 117.0, Epsilon: 0.105\n",
            "Episode 449, Total Reward: 127.0, Epsilon: 0.105\n",
            "Episode 450, Total Reward: 120.0, Epsilon: 0.104\n",
            "Episode 451, Total Reward: 132.0, Epsilon: 0.104\n",
            "Episode 452, Total Reward: 153.0, Epsilon: 0.103\n",
            "Episode 453, Total Reward: 119.0, Epsilon: 0.103\n",
            "Episode 454, Total Reward: 122.0, Epsilon: 0.102\n",
            "Episode 455, Total Reward: 119.0, Epsilon: 0.102\n",
            "Episode 456, Total Reward: 185.0, Epsilon: 0.101\n",
            "Episode 457, Total Reward: 120.0, Epsilon: 0.101\n",
            "Episode 458, Total Reward: 36.0, Epsilon: 0.100\n",
            "Episode 459, Total Reward: 132.0, Epsilon: 0.100\n",
            "Episode 460, Total Reward: 122.0, Epsilon: 0.099\n",
            "Episode 461, Total Reward: 176.0, Epsilon: 0.099\n",
            "Episode 462, Total Reward: 209.0, Epsilon: 0.098\n",
            "Episode 463, Total Reward: 206.0, Epsilon: 0.098\n",
            "Episode 464, Total Reward: 50.0, Epsilon: 0.097\n",
            "Episode 465, Total Reward: 124.0, Epsilon: 0.097\n",
            "Episode 466, Total Reward: 246.0, Epsilon: 0.096\n",
            "Episode 467, Total Reward: 146.0, Epsilon: 0.096\n",
            "Episode 468, Total Reward: 133.0, Epsilon: 0.095\n",
            "Episode 469, Total Reward: 150.0, Epsilon: 0.095\n",
            "Episode 470, Total Reward: 179.0, Epsilon: 0.094\n",
            "Episode 471, Total Reward: 293.0, Epsilon: 0.094\n",
            "Episode 472, Total Reward: 238.0, Epsilon: 0.093\n",
            "Episode 473, Total Reward: 72.0, Epsilon: 0.093\n",
            "Episode 474, Total Reward: 154.0, Epsilon: 0.092\n",
            "Episode 475, Total Reward: 294.0, Epsilon: 0.092\n",
            "Episode 476, Total Reward: 286.0, Epsilon: 0.092\n",
            "Episode 477, Total Reward: 31.0, Epsilon: 0.091\n",
            "Episode 478, Total Reward: 245.0, Epsilon: 0.091\n",
            "Episode 479, Total Reward: 308.0, Epsilon: 0.090\n",
            "Episode 480, Total Reward: 258.0, Epsilon: 0.090\n",
            "Episode 481, Total Reward: 141.0, Epsilon: 0.089\n",
            "Episode 482, Total Reward: 109.0, Epsilon: 0.089\n",
            "Episode 483, Total Reward: 117.0, Epsilon: 0.088\n",
            "Episode 484, Total Reward: 137.0, Epsilon: 0.088\n",
            "Episode 485, Total Reward: 67.0, Epsilon: 0.088\n",
            "Episode 486, Total Reward: 106.0, Epsilon: 0.087\n",
            "Episode 487, Total Reward: 135.0, Epsilon: 0.087\n",
            "Episode 488, Total Reward: 111.0, Epsilon: 0.086\n",
            "Episode 489, Total Reward: 117.0, Epsilon: 0.086\n",
            "Episode 490, Total Reward: 133.0, Epsilon: 0.085\n",
            "Episode 491, Total Reward: 131.0, Epsilon: 0.085\n",
            "Episode 492, Total Reward: 139.0, Epsilon: 0.084\n",
            "Episode 493, Total Reward: 135.0, Epsilon: 0.084\n",
            "Episode 494, Total Reward: 178.0, Epsilon: 0.084\n",
            "Episode 495, Total Reward: 132.0, Epsilon: 0.083\n",
            "Episode 496, Total Reward: 141.0, Epsilon: 0.083\n",
            "Episode 497, Total Reward: 136.0, Epsilon: 0.082\n",
            "Episode 498, Total Reward: 155.0, Epsilon: 0.082\n",
            "Episode 499, Total Reward: 138.0, Epsilon: 0.082\n"
          ]
        }
      ]
    },
    {
      "cell_type": "markdown",
      "source": [
        "🧠 **Key Ideas:**\n",
        "\n",
        "- **Exploration–Exploitation tradeoff:** early episodes explore more, later episodes exploit.\n",
        "\n",
        "- **Target network sync** helps stabilize training.\n",
        "\n",
        "- **Replay buffer** breaks correlation in sequential data.\n",
        "\n",
        "---"
      ],
      "metadata": {
        "id": "_baWp3yRl-l6"
      }
    },
    {
      "cell_type": "markdown",
      "source": [
        "##🔹 Step 10: Save and Load the Trained DQN Model"
      ],
      "metadata": {
        "id": "jOWCgQhZmcIb"
      }
    },
    {
      "cell_type": "markdown",
      "source": [
        "### ✅ Saving the Policy Network After Training\n",
        "You can add this after the training loop:"
      ],
      "metadata": {
        "id": "cJVDb-sNmiEi"
      }
    },
    {
      "cell_type": "code",
      "source": [
        "# Save the trained model weights\n",
        "torch.save(policy_net.state_dict(), \"dqn_cartpole.pth\")\n",
        "print(\"✅ Model saved to dqn_cartpole.pth\")"
      ],
      "metadata": {
        "id": "g8Xt3EFjmbhw"
      },
      "execution_count": null,
      "outputs": []
    },
    {
      "cell_type": "markdown",
      "source": [
        "### ✅ Loading the Trained Model Later\n",
        "To use the saved model again (e.g., for evaluation or testing), reload it like this:"
      ],
      "metadata": {
        "id": "-wUgop8NmoRy"
      }
    },
    {
      "cell_type": "code",
      "source": [
        "# Reinitialize the model architecture (must match)\n",
        "loaded_model = DQN(state_size, action_size).to(device)\n",
        "loaded_model.load_state_dict(torch.load(\"dqn_cartpole.pth\"))\n",
        "loaded_model.eval()  # Set the model to evaluation mode\n",
        "\n",
        "print(\"✅ Model loaded from dqn_cartpole.pth\")\n"
      ],
      "metadata": {
        "colab": {
          "base_uri": "https://localhost:8080/",
          "height": 356
        },
        "id": "BUdwar7Bmpci",
        "outputId": "13a9d6e0-fc17-48ad-b135-8b93050cbc1d"
      },
      "execution_count": null,
      "outputs": [
        {
          "output_type": "error",
          "ename": "FileNotFoundError",
          "evalue": "[Errno 2] No such file or directory: 'dqn_cartpole.pth'",
          "traceback": [
            "\u001b[0;31m---------------------------------------------------------------------------\u001b[0m",
            "\u001b[0;31mFileNotFoundError\u001b[0m                         Traceback (most recent call last)",
            "\u001b[0;32m/tmp/ipython-input-6-901501128.py\u001b[0m in \u001b[0;36m<cell line: 0>\u001b[0;34m()\u001b[0m\n\u001b[1;32m      1\u001b[0m \u001b[0;31m# Reinitialize the model architecture (must match)\u001b[0m\u001b[0;34m\u001b[0m\u001b[0;34m\u001b[0m\u001b[0m\n\u001b[1;32m      2\u001b[0m \u001b[0mloaded_model\u001b[0m \u001b[0;34m=\u001b[0m \u001b[0mDQN\u001b[0m\u001b[0;34m(\u001b[0m\u001b[0mstate_size\u001b[0m\u001b[0;34m,\u001b[0m \u001b[0maction_size\u001b[0m\u001b[0;34m)\u001b[0m\u001b[0;34m.\u001b[0m\u001b[0mto\u001b[0m\u001b[0;34m(\u001b[0m\u001b[0mdevice\u001b[0m\u001b[0;34m)\u001b[0m\u001b[0;34m\u001b[0m\u001b[0;34m\u001b[0m\u001b[0m\n\u001b[0;32m----> 3\u001b[0;31m \u001b[0mloaded_model\u001b[0m\u001b[0;34m.\u001b[0m\u001b[0mload_state_dict\u001b[0m\u001b[0;34m(\u001b[0m\u001b[0mtorch\u001b[0m\u001b[0;34m.\u001b[0m\u001b[0mload\u001b[0m\u001b[0;34m(\u001b[0m\u001b[0;34m\"dqn_cartpole.pth\"\u001b[0m\u001b[0;34m)\u001b[0m\u001b[0;34m)\u001b[0m\u001b[0;34m\u001b[0m\u001b[0;34m\u001b[0m\u001b[0m\n\u001b[0m\u001b[1;32m      4\u001b[0m \u001b[0mloaded_model\u001b[0m\u001b[0;34m.\u001b[0m\u001b[0meval\u001b[0m\u001b[0;34m(\u001b[0m\u001b[0;34m)\u001b[0m  \u001b[0;31m# Set the model to evaluation mode\u001b[0m\u001b[0;34m\u001b[0m\u001b[0;34m\u001b[0m\u001b[0m\n\u001b[1;32m      5\u001b[0m \u001b[0;34m\u001b[0m\u001b[0m\n",
            "\u001b[0;32m/usr/local/lib/python3.11/dist-packages/torch/serialization.py\u001b[0m in \u001b[0;36mload\u001b[0;34m(f, map_location, pickle_module, weights_only, mmap, **pickle_load_args)\u001b[0m\n\u001b[1;32m   1423\u001b[0m         \u001b[0mpickle_load_args\u001b[0m\u001b[0;34m[\u001b[0m\u001b[0;34m\"encoding\"\u001b[0m\u001b[0;34m]\u001b[0m \u001b[0;34m=\u001b[0m \u001b[0;34m\"utf-8\"\u001b[0m\u001b[0;34m\u001b[0m\u001b[0;34m\u001b[0m\u001b[0m\n\u001b[1;32m   1424\u001b[0m \u001b[0;34m\u001b[0m\u001b[0m\n\u001b[0;32m-> 1425\u001b[0;31m     \u001b[0;32mwith\u001b[0m \u001b[0m_open_file_like\u001b[0m\u001b[0;34m(\u001b[0m\u001b[0mf\u001b[0m\u001b[0;34m,\u001b[0m \u001b[0;34m\"rb\"\u001b[0m\u001b[0;34m)\u001b[0m \u001b[0;32mas\u001b[0m \u001b[0mopened_file\u001b[0m\u001b[0;34m:\u001b[0m\u001b[0;34m\u001b[0m\u001b[0;34m\u001b[0m\u001b[0m\n\u001b[0m\u001b[1;32m   1426\u001b[0m         \u001b[0;32mif\u001b[0m \u001b[0m_is_zipfile\u001b[0m\u001b[0;34m(\u001b[0m\u001b[0mopened_file\u001b[0m\u001b[0;34m)\u001b[0m\u001b[0;34m:\u001b[0m\u001b[0;34m\u001b[0m\u001b[0;34m\u001b[0m\u001b[0m\n\u001b[1;32m   1427\u001b[0m             \u001b[0;31m# The zipfile reader is going to advance the current file position.\u001b[0m\u001b[0;34m\u001b[0m\u001b[0;34m\u001b[0m\u001b[0m\n",
            "\u001b[0;32m/usr/local/lib/python3.11/dist-packages/torch/serialization.py\u001b[0m in \u001b[0;36m_open_file_like\u001b[0;34m(name_or_buffer, mode)\u001b[0m\n\u001b[1;32m    749\u001b[0m \u001b[0;32mdef\u001b[0m \u001b[0m_open_file_like\u001b[0m\u001b[0;34m(\u001b[0m\u001b[0mname_or_buffer\u001b[0m\u001b[0;34m,\u001b[0m \u001b[0mmode\u001b[0m\u001b[0;34m)\u001b[0m\u001b[0;34m:\u001b[0m\u001b[0;34m\u001b[0m\u001b[0;34m\u001b[0m\u001b[0m\n\u001b[1;32m    750\u001b[0m     \u001b[0;32mif\u001b[0m \u001b[0m_is_path\u001b[0m\u001b[0;34m(\u001b[0m\u001b[0mname_or_buffer\u001b[0m\u001b[0;34m)\u001b[0m\u001b[0;34m:\u001b[0m\u001b[0;34m\u001b[0m\u001b[0;34m\u001b[0m\u001b[0m\n\u001b[0;32m--> 751\u001b[0;31m         \u001b[0;32mreturn\u001b[0m \u001b[0m_open_file\u001b[0m\u001b[0;34m(\u001b[0m\u001b[0mname_or_buffer\u001b[0m\u001b[0;34m,\u001b[0m \u001b[0mmode\u001b[0m\u001b[0;34m)\u001b[0m\u001b[0;34m\u001b[0m\u001b[0;34m\u001b[0m\u001b[0m\n\u001b[0m\u001b[1;32m    752\u001b[0m     \u001b[0;32melse\u001b[0m\u001b[0;34m:\u001b[0m\u001b[0;34m\u001b[0m\u001b[0;34m\u001b[0m\u001b[0m\n\u001b[1;32m    753\u001b[0m         \u001b[0;32mif\u001b[0m \u001b[0;34m\"w\"\u001b[0m \u001b[0;32min\u001b[0m \u001b[0mmode\u001b[0m\u001b[0;34m:\u001b[0m\u001b[0;34m\u001b[0m\u001b[0;34m\u001b[0m\u001b[0m\n",
            "\u001b[0;32m/usr/local/lib/python3.11/dist-packages/torch/serialization.py\u001b[0m in \u001b[0;36m__init__\u001b[0;34m(self, name, mode)\u001b[0m\n\u001b[1;32m    730\u001b[0m \u001b[0;32mclass\u001b[0m \u001b[0m_open_file\u001b[0m\u001b[0;34m(\u001b[0m\u001b[0m_opener\u001b[0m\u001b[0;34m)\u001b[0m\u001b[0;34m:\u001b[0m\u001b[0;34m\u001b[0m\u001b[0;34m\u001b[0m\u001b[0m\n\u001b[1;32m    731\u001b[0m     \u001b[0;32mdef\u001b[0m \u001b[0m__init__\u001b[0m\u001b[0;34m(\u001b[0m\u001b[0mself\u001b[0m\u001b[0;34m,\u001b[0m \u001b[0mname\u001b[0m\u001b[0;34m,\u001b[0m \u001b[0mmode\u001b[0m\u001b[0;34m)\u001b[0m\u001b[0;34m:\u001b[0m\u001b[0;34m\u001b[0m\u001b[0;34m\u001b[0m\u001b[0m\n\u001b[0;32m--> 732\u001b[0;31m         \u001b[0msuper\u001b[0m\u001b[0;34m(\u001b[0m\u001b[0;34m)\u001b[0m\u001b[0;34m.\u001b[0m\u001b[0m__init__\u001b[0m\u001b[0;34m(\u001b[0m\u001b[0mopen\u001b[0m\u001b[0;34m(\u001b[0m\u001b[0mname\u001b[0m\u001b[0;34m,\u001b[0m \u001b[0mmode\u001b[0m\u001b[0;34m)\u001b[0m\u001b[0;34m)\u001b[0m\u001b[0;34m\u001b[0m\u001b[0;34m\u001b[0m\u001b[0m\n\u001b[0m\u001b[1;32m    733\u001b[0m \u001b[0;34m\u001b[0m\u001b[0m\n\u001b[1;32m    734\u001b[0m     \u001b[0;32mdef\u001b[0m \u001b[0m__exit__\u001b[0m\u001b[0;34m(\u001b[0m\u001b[0mself\u001b[0m\u001b[0;34m,\u001b[0m \u001b[0;34m*\u001b[0m\u001b[0margs\u001b[0m\u001b[0;34m)\u001b[0m\u001b[0;34m:\u001b[0m\u001b[0;34m\u001b[0m\u001b[0;34m\u001b[0m\u001b[0m\n",
            "\u001b[0;31mFileNotFoundError\u001b[0m: [Errno 2] No such file or directory: 'dqn_cartpole.pth'"
          ]
        }
      ]
    },
    {
      "cell_type": "markdown",
      "source": [
        "🧠 **Tips:**\n",
        "\n",
        "- Always match architecture exactly when loading.\n",
        "\n",
        "- Use .eval() to turn off dropout/batchnorm (not needed here, but good habit).\n",
        "\n",
        "- You can wrap this in a condition to load if the file exists."
      ],
      "metadata": {
        "id": "wBzW3blEmv_1"
      }
    },
    {
      "cell_type": "code",
      "source": [],
      "metadata": {
        "id": "WYy0-ky3mrMW"
      },
      "execution_count": null,
      "outputs": []
    }
  ]
}